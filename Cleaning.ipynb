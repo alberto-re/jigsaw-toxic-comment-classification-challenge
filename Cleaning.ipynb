{
 "cells": [
  {
   "cell_type": "code",
   "execution_count": 64,
   "metadata": {},
   "outputs": [],
   "source": [
    "import re\n",
    "import numpy as np\n",
    "import pandas as pd"
   ]
  },
  {
   "cell_type": "code",
   "execution_count": 65,
   "metadata": {},
   "outputs": [],
   "source": [
    "pd.set_option(\"display.max_colwidth\", -1)"
   ]
  },
  {
   "cell_type": "code",
   "execution_count": 66,
   "metadata": {},
   "outputs": [],
   "source": [
    "train = pd.read_csv(\"data/train.csv\", encoding=\"utf-8\")\n",
    "test = pd.read_csv(\"data/test.csv\", encoding=\"utf-8\")"
   ]
  },
  {
   "cell_type": "code",
   "execution_count": 67,
   "metadata": {},
   "outputs": [],
   "source": [
    "test.fillna(\"_NAN_\", inplace=True)"
   ]
  },
  {
   "cell_type": "code",
   "execution_count": 68,
   "metadata": {},
   "outputs": [],
   "source": [
    "train[\"exclamation_mark_ratio\"] = train.comment_text.map(lambda x: x.count('!') / len(x))\n",
    "test[\"exclamation_mark_ratio\"] = test.comment_text.map(lambda x: x.count('!') / len(x))"
   ]
  },
  {
   "cell_type": "code",
   "execution_count": 69,
   "metadata": {},
   "outputs": [],
   "source": [
    "symbols_regex = re.compile(\"[!?_@+\\-*#%]\", re.IGNORECASE)\n",
    "train[\"symbols_ratio\"] = train.comment_text.map(lambda x: len(symbols_regex.findall(x)) / len(x))\n",
    "test[\"symbols_ratio\"] = test.comment_text.map(lambda x: len(symbols_regex.findall(x)) / len(x))"
   ]
  },
  {
   "cell_type": "code",
   "execution_count": 70,
   "metadata": {},
   "outputs": [],
   "source": [
    "train[\"upper_ratio\"] = train.comment_text.map(lambda x: len([c for c in x if c.isupper()]) / len(x))\n",
    "test[\"upper_ratio\"] = test.comment_text.map(lambda x: len([c for c in x if c.isupper()]) / len(x))"
   ]
  },
  {
   "cell_type": "code",
   "execution_count": 71,
   "metadata": {},
   "outputs": [],
   "source": [
    "train.to_csv(\"data/train_clean.csv\", encoding=\"utf-8\", index=False)\n",
    "test.to_csv(\"data/test_clean.csv\", encoding=\"utf-8\", index=False)"
   ]
  }
 ],
 "metadata": {
  "kernelspec": {
   "display_name": "Python 3",
   "language": "python",
   "name": "python3"
  },
  "language_info": {
   "codemirror_mode": {
    "name": "ipython",
    "version": 3
   },
   "file_extension": ".py",
   "mimetype": "text/x-python",
   "name": "python",
   "nbconvert_exporter": "python",
   "pygments_lexer": "ipython3",
   "version": "3.6.4"
  }
 },
 "nbformat": 4,
 "nbformat_minor": 2
}
