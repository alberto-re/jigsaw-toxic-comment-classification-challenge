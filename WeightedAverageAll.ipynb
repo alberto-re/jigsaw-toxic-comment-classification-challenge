{
 "cells": [
  {
   "cell_type": "code",
   "execution_count": 3,
   "metadata": {},
   "outputs": [],
   "source": [
    "import numpy as np\n",
    "import pandas as pd\n",
    "from itertools import product\n",
    "from sklearn.externals.joblib import load\n",
    "from sklearn.metrics import roc_auc_score\n",
    "from common import TARGETS"
   ]
  },
  {
   "cell_type": "code",
   "execution_count": 4,
   "metadata": {},
   "outputs": [],
   "source": [
    "TRAIN = \"data/train_clean.csv\"\n",
    "\n",
    "SUBMISSION_IN = {\n",
    "    \"gru_glove\": \"submissions/submission_gru_glove.csv.gz\",\n",
    "    \"gru_fasttext\": \"submissions/submission_gru_fasttext.csv.gz\",\n",
    "    \"cnn_glove\": \"submissions/submission_cnn_glove.csv.gz\",\n",
    "    \"cnn_fasttext\": \"submissions/submission_cnn_fasttext.csv.gz\",\n",
    "    \"lstmcnn_glove\": \"submissions/submission_lstm_cnn_glove.csv.gz\",\n",
    "    \"lstmcnn_fasttext\": \"submissions/submission_lstm_cnn_fasttext.csv.gz\",\n",
    "    \"logreg\": \"submissions/submission_logistic_regression.csv.gz\",\n",
    "    \"xgb\": \"submissions/submission_xgb.csv.gz\"\n",
    "}\n",
    "\n",
    "SUBMISSION_OUT = \"submissions/submission_weighted_avg_all.csv.gz\"\n",
    "\n",
    "K_FOLDS = 10\n",
    "\n",
    "VALIDATION_PRED_FILE = {\n",
    "    \"gru_glove\": \"cache/gru_glove_validation_pred_fold_%s.pkl\",\n",
    "    \"gru_fasttext\": \"cache/gru_fasttext_validation_pred_fold_%s.pkl\",\n",
    "    \"cnn_glove\": \"cache/cnn_glove_validation_pred_fold_%s.pkl\",\n",
    "    \"cnn_fasttext\": \"cache/cnn_fasttext_validation_pred_fold_%s.pkl\",\n",
    "    \"lstmcnn_glove\": \"cache/lstm_cnn_glove_validation_pred_fold_%s.pkl\",\n",
    "    \"lstmcnn_fasttext\": \"cache/lstm_cnn_fasttext_validation_pred_fold_%s.pkl\",\n",
    "    \"logreg\": \"cache/logreg_validation_pred_fold_%s.pkl\",\n",
    "    \"xgb\": \"cache/xgb_validation_pred_fold_%s.pkl\"\n",
    "}"
   ]
  },
  {
   "cell_type": "code",
   "execution_count": 5,
   "metadata": {},
   "outputs": [],
   "source": [
    "train = pd.read_csv(TRAIN, encoding=\"utf-8\")\n",
    "submission = pd.read_csv(\"data/sample_submission.csv\", encoding=\"utf-8\")"
   ]
  },
  {
   "cell_type": "code",
   "execution_count": 6,
   "metadata": {},
   "outputs": [],
   "source": [
    "subs = {}\n",
    "for model in [\"gru_glove\", \"gru_fasttext\", \"cnn_glove\", \"cnn_fasttext\", \"lstmcnn_glove\", \"lstmcnn_fasttext\", \"logreg\", \"xgb\"]:\n",
    "    subs[model] = pd.read_csv(SUBMISSION_IN[model], encoding=\"utf-8\")"
   ]
  },
  {
   "cell_type": "code",
   "execution_count": 7,
   "metadata": {},
   "outputs": [
    {
     "name": "stdout",
     "output_type": "stream",
     "text": [
      "Loaded model 'gru_glove'\n",
      "Loaded model 'gru_fasttext'\n",
      "Loaded model 'cnn_glove'\n",
      "Loaded model 'cnn_fasttext'\n",
      "Loaded model 'lstmcnn_glove'\n",
      "Loaded model 'lstmcnn_fasttext'\n",
      "Loaded model 'logreg'\n",
      "Loaded model 'xgb'\n"
     ]
    }
   ],
   "source": [
    "Y = {}\n",
    "\n",
    "for model in [\"gru_glove\", \"gru_fasttext\", \"cnn_glove\", \"cnn_fasttext\", \"lstmcnn_glove\", \"lstmcnn_fasttext\", \"logreg\", \"xgb\"]:\n",
    "    for fold in range(0, K_FOLDS):\n",
    "        Y_fold = load(VALIDATION_PRED_FILE[model] % fold)\n",
    "        if model not in Y.keys():\n",
    "            Y[model] = Y_fold\n",
    "        else:\n",
    "            Y[model] = np.append(Y[model], Y_fold, axis=0)\n",
    "    print(\"Loaded model '%s'\" % model)"
   ]
  },
  {
   "cell_type": "code",
   "execution_count": 8,
   "metadata": {},
   "outputs": [],
   "source": [
    "Y_truth = train[TARGETS].values"
   ]
  },
  {
   "cell_type": "code",
   "execution_count": 10,
   "metadata": {},
   "outputs": [
    {
     "name": "stdout",
     "output_type": "stream",
     "text": [
      "Improving: weights 0.00, 0.00, 0.00, 0.00, 0.00, 0.20, 0.40, 0.40 - score 0.989671\n",
      "Improving: weights 0.00, 0.00, 0.00, 0.00, 0.00, 0.30, 0.30, 0.40 - score 0.989892\n",
      "Improving: weights 0.00, 0.00, 0.00, 0.00, 0.00, 0.30, 0.40, 0.30 - score 0.989985\n",
      "Improving: weights 0.00, 0.00, 0.00, 0.00, 0.00, 0.40, 0.30, 0.30 - score 0.990070\n",
      "Improving: weights 0.00, 0.00, 0.00, 0.00, 0.00, 0.40, 0.40, 0.20 - score 0.990088\n",
      "Improving: weights 0.00, 0.00, 0.00, 0.00, 0.10, 0.20, 0.30, 0.40 - score 0.990195\n",
      "Improving: weights 0.00, 0.00, 0.00, 0.00, 0.10, 0.20, 0.40, 0.30 - score 0.990285\n",
      "Improving: weights 0.00, 0.00, 0.00, 0.00, 0.10, 0.30, 0.30, 0.30 - score 0.990386\n",
      "Improving: weights 0.00, 0.00, 0.00, 0.00, 0.10, 0.30, 0.40, 0.20 - score 0.990407\n",
      "Improving: weights 0.00, 0.00, 0.00, 0.00, 0.10, 0.40, 0.30, 0.20 - score 0.990417\n",
      "Improving: weights 0.00, 0.00, 0.00, 0.00, 0.20, 0.30, 0.30, 0.20 - score 0.990471\n",
      "Improving: weights 0.00, 0.00, 0.00, 0.10, 0.10, 0.20, 0.30, 0.30 - score 0.990501\n",
      "Improving: weights 0.00, 0.00, 0.00, 0.10, 0.10, 0.20, 0.40, 0.20 - score 0.990519\n",
      "Improving: weights 0.00, 0.00, 0.00, 0.10, 0.10, 0.30, 0.30, 0.20 - score 0.990567\n",
      "Improving: weights 0.00, 0.10, 0.00, 0.00, 0.00, 0.30, 0.30, 0.30 - score 0.990656\n",
      "Improving: weights 0.00, 0.10, 0.00, 0.00, 0.00, 0.40, 0.30, 0.20 - score 0.990670\n",
      "Improving: weights 0.00, 0.10, 0.00, 0.00, 0.10, 0.10, 0.40, 0.30 - score 0.990692\n",
      "Improving: weights 0.00, 0.10, 0.00, 0.00, 0.10, 0.20, 0.20, 0.40 - score 0.990703\n",
      "Improving: weights 0.00, 0.10, 0.00, 0.00, 0.10, 0.20, 0.30, 0.30 - score 0.990836\n",
      "Improving: weights 0.00, 0.10, 0.00, 0.00, 0.10, 0.30, 0.30, 0.20 - score 0.990870\n",
      "Improving: weights 0.00, 0.10, 0.00, 0.10, 0.10, 0.20, 0.30, 0.20 - score 0.990917\n",
      "Improving: weights 0.00, 0.20, 0.00, 0.00, 0.10, 0.10, 0.30, 0.30 - score 0.990942\n",
      "Improving: weights 0.00, 0.20, 0.00, 0.00, 0.10, 0.20, 0.20, 0.30 - score 0.990966\n",
      "Improving: weights 0.00, 0.20, 0.00, 0.00, 0.10, 0.20, 0.30, 0.20 - score 0.991027\n",
      "Improving: weights 0.00, 0.30, 0.00, 0.00, 0.10, 0.10, 0.30, 0.20 - score 0.991063\n",
      "Improving: weights 0.10, 0.10, 0.00, 0.00, 0.10, 0.20, 0.30, 0.20 - score 0.991082\n",
      "Improving: weights 0.10, 0.20, 0.00, 0.00, 0.10, 0.10, 0.20, 0.30 - score 0.991085\n",
      "Improving: weights 0.10, 0.20, 0.00, 0.00, 0.10, 0.10, 0.30, 0.20 - score 0.991142\n",
      "Improving: weights 0.10, 0.30, 0.00, 0.00, 0.10, 0.10, 0.20, 0.20 - score 0.991150\n",
      "Improving: weights 0.20, 0.20, 0.00, 0.00, 0.10, 0.10, 0.20, 0.20 - score 0.991171\n",
      "Wall time: 1h 1min\n"
     ]
    }
   ],
   "source": [
    "%%time\n",
    "best_weights = (0, 0, 0, 0, 0, 0, 0, 0)\n",
    "best_score = 0\n",
    "for w_set in product(np.arange(0.0, 0.5, 0.1), repeat=len(SUBMISSION_IN.keys())):\n",
    "    if sum(w_set) != 1.0:\n",
    "        continue\n",
    "    \n",
    "    score = roc_auc_score(\n",
    "        Y_truth,\n",
    "        (\n",
    "            (\n",
    "                Y[\"gru_glove\"] * w_set[0] +\n",
    "                Y[\"gru_fasttext\"] * w_set[1] +\n",
    "                Y[\"cnn_glove\"] * w_set[2] +\n",
    "                Y[\"cnn_fasttext\"] * w_set[3] +\n",
    "                Y[\"lstmcnn_glove\"] * w_set[4] +\n",
    "                Y[\"lstmcnn_fasttext\"] * w_set[5] +\n",
    "                Y[\"logreg\"] * w_set[6] +\n",
    "                Y[\"xgb\"] * w_set[7]\n",
    "            ) / len(w_set)\n",
    "        )\n",
    "    )\n",
    "    if score > best_score:\n",
    "        best_score = score\n",
    "        best_weights = w_set\n",
    "        print(\"Improving: weights %s - score %0.6f\" % (\", \".join(map(lambda x: \"%0.2f\" % x, w_set)), score))"
   ]
  },
  {
   "cell_type": "code",
   "execution_count": 11,
   "metadata": {},
   "outputs": [],
   "source": [
    "for target in TARGETS:\n",
    "    submission[target] = \\\n",
    "        subs[\"gru_glove\"][target] * best_weights[0] + \\\n",
    "        subs[\"gru_fasttext\"][target] * best_weights[1] + \\\n",
    "        subs[\"cnn_glove\"][target] * best_weights[2] + \\\n",
    "        subs[\"cnn_fasttext\"][target] * best_weights[3] + \\\n",
    "        subs[\"lstmcnn_glove\"][target] * best_weights[4] + \\\n",
    "        subs[\"lstmcnn_fasttext\"][target] * best_weights[5] + \\\n",
    "        subs[\"logreg\"][target] * best_weights[6] + \\\n",
    "        subs[\"xgb\"][target] * best_weights[7]"
   ]
  },
  {
   "cell_type": "code",
   "execution_count": 12,
   "metadata": {},
   "outputs": [],
   "source": [
    "submission.to_csv(SUBMISSION_OUT, index=False, encoding=\"utf-8\", compression=\"gzip\") # 0.9866"
   ]
  }
 ],
 "metadata": {
  "kernelspec": {
   "display_name": "Python 3",
   "language": "python",
   "name": "python3"
  },
  "language_info": {
   "codemirror_mode": {
    "name": "ipython",
    "version": 3
   },
   "file_extension": ".py",
   "mimetype": "text/x-python",
   "name": "python",
   "nbconvert_exporter": "python",
   "pygments_lexer": "ipython3",
   "version": "3.6.4"
  }
 },
 "nbformat": 4,
 "nbformat_minor": 2
}
