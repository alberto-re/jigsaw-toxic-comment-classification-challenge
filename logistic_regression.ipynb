{
 "cells": [
  {
   "cell_type": "code",
   "execution_count": 13,
   "metadata": {},
   "outputs": [],
   "source": [
    "import json\n",
    "import numpy as np\n",
    "import pandas as pd\n",
    "from scipy import sparse\n",
    "from sklearn.externals.joblib import dump, load\n",
    "from sklearn.feature_extraction.text import TfidfVectorizer\n",
    "from sklearn.linear_model import LogisticRegression\n",
    "from sklearn.model_selection import train_test_split, GridSearchCV, KFold\n",
    "from sklearn.metrics import make_scorer, roc_auc_score, log_loss\n",
    "from sklearn.externals.joblib import load, dump\n",
    "from scipy.sparse import hstack\n",
    "from common import SEED, TARGETS"
   ]
  },
  {
   "cell_type": "code",
   "execution_count": 41,
   "metadata": {},
   "outputs": [],
   "source": [
    "CORPUS_CLEANED_PATH = \"cache/corpus_cleaned.pkl\"\n",
    "CHAR_VECTORIZER_PATH = \"cache/char_vect.pkl\"\n",
    "WORD_VECTORIZER_PATH = \"cache/word_vect.pkl\"\n",
    "CHAR_TRAIN_PATH = \"cache/char_train.pkl\"\n",
    "WORD_TRAIN_PATH = \"cache/word_train.pkl\"\n",
    "CHAR_VAL_PATH = \"cache/char_val.pkl\"\n",
    "WORD_VAL_PATH = \"cache/word_val.pkl\"\n",
    "\n",
    "LOGREG_BEST_PARAMS_CACHE = \"cache/logreg_best_params.json\"\n",
    "\n",
    "TRAIN_TEST_SPLIT = 0.3\n",
    "K_FOLDS = 10\n",
    "VALIDATION_PRED_FILE = \"cache/logreg_validation_pred_fold_%s.pkl\"\n",
    "\n",
    "TRAIN_FILE = \"data/train_clean.csv\"\n",
    "TEST_FILE = \"data/test_clean.csv\"\n",
    "SUBMISSION_SAMPLE_FILE = \"data/sample_submission.csv\"\n",
    "SUBMISSION_FILE = \"submissions/submission_logistic_regression.csv.gz\""
   ]
  },
  {
   "cell_type": "code",
   "execution_count": 3,
   "metadata": {},
   "outputs": [],
   "source": [
    "%matplotlib inline\n",
    "np.random.seed(SEED)\n",
    "np.set_printoptions(suppress=True)\n",
    "pd.set_option(\"display.max_colwidth\", -1)"
   ]
  },
  {
   "cell_type": "code",
   "execution_count": 4,
   "metadata": {},
   "outputs": [],
   "source": [
    "train = pd.read_csv(TRAIN_FILE, encoding=\"utf-8\")\n",
    "test = pd.read_csv(TEST_FILE, encoding=\"utf-8\")\n",
    "submission = pd.read_csv(SUBMISSION_SAMPLE_FILE, encoding=\"utf-8\")"
   ]
  },
  {
   "cell_type": "code",
   "execution_count": 5,
   "metadata": {},
   "outputs": [],
   "source": [
    "corpus = pd.concat([train[\"comment_text\"], test[\"comment_text\"]]).values"
   ]
  },
  {
   "cell_type": "code",
   "execution_count": 6,
   "metadata": {},
   "outputs": [
    {
     "name": "stdout",
     "output_type": "stream",
     "text": [
      "Wall time: 3.89 s\n"
     ]
    }
   ],
   "source": [
    "%%time\n",
    "try:\n",
    "    char_vectorizer = load(CHAR_VECTORIZER_PATH)\n",
    "except IOError:\n",
    "    char_vectorizer = TfidfVectorizer(\n",
    "        analyzer=\"char\",\n",
    "        ngram_range=(1, 4),\n",
    "        max_features=25000,\n",
    "        sublinear_tf=True\n",
    "    )\n",
    "    char_vectorizer.fit(corpus)\n",
    "    dump(char_vectorizer, CHAR_VECTORIZER_PATH)"
   ]
  },
  {
   "cell_type": "code",
   "execution_count": 7,
   "metadata": {},
   "outputs": [
    {
     "name": "stdout",
     "output_type": "stream",
     "text": [
      "Wall time: 294 ms\n"
     ]
    }
   ],
   "source": [
    "%%time\n",
    "try:\n",
    "    corpus_cleaned = load(CORPUS_CLEANED_PATH)\n",
    "except IOError:\n",
    "    corpus_cleaned = pd.concat([train[\"comment_text\"], test[\"comment_text\"]]).values\n",
    "    dump(corpus_cleaned, CORPUS_CLEANED_PATH)"
   ]
  },
  {
   "cell_type": "code",
   "execution_count": 8,
   "metadata": {},
   "outputs": [
    {
     "name": "stdout",
     "output_type": "stream",
     "text": [
      "Wall time: 1.2 s\n"
     ]
    }
   ],
   "source": [
    "%%time\n",
    "try:\n",
    "    word_vectorizer = load(WORD_VECTORIZER_PATH)\n",
    "except IOError:\n",
    "    word_vectorizer = TfidfVectorizer(\n",
    "        analyzer=\"word\",\n",
    "        max_features=25000,\n",
    "        min_df=10,\n",
    "        stop_words=\"english\"\n",
    "    )\n",
    "    word_vectorizer.fit(corpus_cleaned)\n",
    "    dump(word_vectorizer, WORD_VECTORIZER_PATH)"
   ]
  },
  {
   "cell_type": "code",
   "execution_count": 9,
   "metadata": {},
   "outputs": [
    {
     "name": "stdout",
     "output_type": "stream",
     "text": [
      "Wall time: 2min 24s\n"
     ]
    }
   ],
   "source": [
    "%%time\n",
    "x_train_ngram_vect = char_vectorizer.transform(train[\"comment_text\"])\n",
    "x_train_word_vect = word_vectorizer.transform(train[\"comment_text\"])\n",
    "x_train_vect = hstack([\n",
    "    x_train_ngram_vect,\n",
    "    x_train_word_vect,\n",
    "    sparse.csr_matrix(train[[\"exclamation_mark_ratio\", \"upper_ratio\", \"symbols_ratio\"]].values)\n",
    "])"
   ]
  },
  {
   "cell_type": "code",
   "execution_count": 10,
   "metadata": {},
   "outputs": [
    {
     "name": "stdout",
     "output_type": "stream",
     "text": [
      "Wall time: 2min 5s\n"
     ]
    }
   ],
   "source": [
    "%%time\n",
    "x_test_ngram_vect = char_vectorizer.transform(test[\"comment_text\"])\n",
    "x_test_word_vect = word_vectorizer.transform(test[\"comment_text\"])\n",
    "x_test_vect = hstack([\n",
    "    x_test_ngram_vect,\n",
    "    x_test_word_vect,\n",
    "    sparse.csr_matrix(test[[\"exclamation_mark_ratio\", \"upper_ratio\", \"symbols_ratio\"]].values)\n",
    "])"
   ]
  },
  {
   "cell_type": "code",
   "execution_count": 11,
   "metadata": {},
   "outputs": [],
   "source": [
    "x_train, x_val, y_train, y_val = train_test_split(\n",
    "    x_train_vect, train[TARGETS].values, test_size=TRAIN_TEST_SPLIT, random_state=SEED, shuffle=False)"
   ]
  },
  {
   "cell_type": "code",
   "execution_count": 12,
   "metadata": {},
   "outputs": [
    {
     "name": "stdout",
     "output_type": "stream",
     "text": [
      "{'C': 4.25}\n"
     ]
    }
   ],
   "source": [
    "try:\n",
    "    with open(LOGREG_BEST_PARAMS_CACHE) as fread:\n",
    "        logreg_best_params = json.load(fread)\n",
    "except IOError:\n",
    "    grid = {\n",
    "       \"C\": [3.5, 3.75, 4.0, 4.25, 4.5]\n",
    "    }\n",
    "    model = LogisticRegression(random_state=SEED, verbose=0)\n",
    "    scorer = make_scorer(log_loss, greater_is_better=False)\n",
    "    rsearch = GridSearchCV(estimator=model, verbose=2, param_grid=grid, scoring=scorer, n_jobs=-1)\n",
    "    rsearch.fit(x_train, y_train[:, 0])\n",
    "    logreg_best_params = rsearch.best_params_\n",
    "    with open(LOGREG_BEST_PARAMS_CACHE, 'w') as fwrite:\n",
    "        json.dump(logreg_best_params, fwrite, indent=2)\n",
    "    print(-rsearch.best_score_)\n",
    "\n",
    "print(logreg_best_params)"
   ]
  },
  {
   "cell_type": "code",
   "execution_count": 43,
   "metadata": {},
   "outputs": [],
   "source": [
    "kfold = KFold(n_splits=K_FOLDS, random_state=SEED)"
   ]
  },
  {
   "cell_type": "code",
   "execution_count": 44,
   "metadata": {},
   "outputs": [],
   "source": [
    "x_train_vect = x_train_vect.tocsr()"
   ]
  },
  {
   "cell_type": "code",
   "execution_count": 46,
   "metadata": {},
   "outputs": [
    {
     "name": "stdout",
     "output_type": "stream",
     "text": [
      "Training model for y = toxic on fold 0\n",
      "Training model for y = severe_toxic on fold 0\n",
      "Training model for y = obscene on fold 0\n",
      "Training model for y = threat on fold 0\n",
      "Training model for y = insult on fold 0\n",
      "Training model for y = identity_hate on fold 0\n",
      "Validation ROC-AUC score for fold 0: 0.9860\n",
      "Training model for y = toxic on fold 1\n",
      "Training model for y = severe_toxic on fold 1\n",
      "Training model for y = obscene on fold 1\n",
      "Training model for y = threat on fold 1\n",
      "Training model for y = insult on fold 1\n",
      "Training model for y = identity_hate on fold 1\n",
      "Validation ROC-AUC score for fold 1: 0.9847\n",
      "Training model for y = toxic on fold 2\n",
      "Training model for y = severe_toxic on fold 2\n",
      "Training model for y = obscene on fold 2\n",
      "Training model for y = threat on fold 2\n",
      "Training model for y = insult on fold 2\n",
      "Training model for y = identity_hate on fold 2\n",
      "Validation ROC-AUC score for fold 2: 0.9863\n",
      "Training model for y = toxic on fold 3\n",
      "Training model for y = severe_toxic on fold 3\n",
      "Training model for y = obscene on fold 3\n",
      "Training model for y = threat on fold 3\n",
      "Training model for y = insult on fold 3\n",
      "Training model for y = identity_hate on fold 3\n",
      "Validation ROC-AUC score for fold 3: 0.9834\n",
      "Training model for y = toxic on fold 4\n",
      "Training model for y = severe_toxic on fold 4\n",
      "Training model for y = obscene on fold 4\n",
      "Training model for y = threat on fold 4\n",
      "Training model for y = insult on fold 4\n",
      "Training model for y = identity_hate on fold 4\n",
      "Validation ROC-AUC score for fold 4: 0.9820\n",
      "Training model for y = toxic on fold 5\n",
      "Training model for y = severe_toxic on fold 5\n",
      "Training model for y = obscene on fold 5\n",
      "Training model for y = threat on fold 5\n",
      "Training model for y = insult on fold 5\n",
      "Training model for y = identity_hate on fold 5\n",
      "Validation ROC-AUC score for fold 5: 0.9827\n",
      "Training model for y = toxic on fold 6\n",
      "Training model for y = severe_toxic on fold 6\n",
      "Training model for y = obscene on fold 6\n",
      "Training model for y = threat on fold 6\n",
      "Training model for y = insult on fold 6\n",
      "Training model for y = identity_hate on fold 6\n",
      "Validation ROC-AUC score for fold 6: 0.9858\n",
      "Training model for y = toxic on fold 7\n",
      "Training model for y = severe_toxic on fold 7\n",
      "Training model for y = obscene on fold 7\n",
      "Training model for y = threat on fold 7\n",
      "Training model for y = insult on fold 7\n",
      "Training model for y = identity_hate on fold 7\n",
      "Validation ROC-AUC score for fold 7: 0.9838\n",
      "Training model for y = toxic on fold 8\n",
      "Training model for y = severe_toxic on fold 8\n",
      "Training model for y = obscene on fold 8\n",
      "Training model for y = threat on fold 8\n",
      "Training model for y = insult on fold 8\n",
      "Training model for y = identity_hate on fold 8\n",
      "Validation ROC-AUC score for fold 8: 0.9856\n",
      "Training model for y = toxic on fold 9\n",
      "Training model for y = severe_toxic on fold 9\n",
      "Training model for y = obscene on fold 9\n",
      "Training model for y = threat on fold 9\n",
      "Training model for y = insult on fold 9\n",
      "Training model for y = identity_hate on fold 9\n",
      "Validation ROC-AUC score for fold 9: 0.9850\n",
      "Wall time: 41min 54s\n"
     ]
    }
   ],
   "source": [
    "%%time\n",
    "for fold_index, (train_index, test_index) in enumerate(kfold.split(x_train_vect, train[TARGETS].values)):\n",
    "    \n",
    "    x_train, x_val = x_train_vect[train_index], x_train_vect[test_index]\n",
    "    y_train, y_val = train[TARGETS].values[train_index], train[TARGETS].values[test_index]\n",
    "    \n",
    "    scores = []\n",
    "    y_preds_proba = []\n",
    "    \n",
    "    for index, target in enumerate(TARGETS):\n",
    "        print(\"Training model for y = %s on fold %d\" % (target, fold_index))\n",
    "        model = LogisticRegression(random_state=SEED, verbose=0)\n",
    "        model.set_params(**logreg_best_params)\n",
    "        model.fit(x_train, y_train[:, index])\n",
    "        \n",
    "        y_pred_proba = model.predict_proba(x_val)\n",
    "        y_preds_proba.append(y_pred_proba)\n",
    "    \n",
    "    score = roc_auc_score(y_val, np.array(y_preds_proba).transpose(1, 0, 2)[:,:,1])\n",
    "    print(\"Validation ROC-AUC score for fold %d: %0.4f\" % (fold_index, score))\n",
    "    scores.append(score)\n",
    "    \n",
    "    dump(np.array(y_preds_proba).transpose(1, 0, 2)[:,:,1], VALIDATION_PRED_FILE % fold_index)"
   ]
  },
  {
   "cell_type": "code",
   "execution_count": 50,
   "metadata": {},
   "outputs": [
    {
     "name": "stdout",
     "output_type": "stream",
     "text": [
      "Average ROC-AUC score: 0.9850\n"
     ]
    }
   ],
   "source": [
    "print(\"Average ROC-AUC score: %0.4f\" % np.mean(scores))"
   ]
  },
  {
   "cell_type": "code",
   "execution_count": null,
   "metadata": {},
   "outputs": [],
   "source": [
    "models = []\n",
    "for index, target in enumerate(TARGETS):\n",
    "    print(\"Re-training on full dataset for y = %s\" % target)\n",
    "    model = LogisticRegression(random_state=SEED, verbose=0)\n",
    "    model.set_params(**logreg_best_params)\n",
    "    model.fit(\n",
    "        x_train_vect,\n",
    "        train[target].values\n",
    "    )\n",
    "    models.append(model)"
   ]
  },
  {
   "cell_type": "code",
   "execution_count": null,
   "metadata": {},
   "outputs": [],
   "source": [
    "%%time\n",
    "submission_logreg = submission\n",
    "for index, target in enumerate(TARGETS):\n",
    "    submission_logreg[target] = models[index].predict_proba(x_test_vect)[:, 1]"
   ]
  },
  {
   "cell_type": "code",
   "execution_count": null,
   "metadata": {},
   "outputs": [],
   "source": [
    "submission_logreg.to_csv(SUBMISSION_FILE, index=False, encoding=\"utf-8\", compression=\"gzip\")\n",
    "# 0.9764"
   ]
  }
 ],
 "metadata": {
  "kernelspec": {
   "display_name": "Python 3",
   "language": "python",
   "name": "python3"
  },
  "language_info": {
   "codemirror_mode": {
    "name": "ipython",
    "version": 3
   },
   "file_extension": ".py",
   "mimetype": "text/x-python",
   "name": "python",
   "nbconvert_exporter": "python",
   "pygments_lexer": "ipython3",
   "version": "3.6.4"
  }
 },
 "nbformat": 4,
 "nbformat_minor": 2
}
